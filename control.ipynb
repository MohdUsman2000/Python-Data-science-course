{
 "cells": [
  {
   "cell_type": "markdown",
   "metadata": {},
   "source": [
    "Use of indentation "
   ]
  },
  {
   "cell_type": "code",
   "execution_count": 4,
   "metadata": {},
   "outputs": [
    {
     "name": "stdout",
     "output_type": "stream",
     "text": [
      "odd\n"
     ]
    }
   ],
   "source": [
    "x= int(input(\"enter a number\"))\n",
    "if x%2==0:\n",
    "    print('even')\n",
    "else:\n",
    "    print('odd')\n"
   ]
  },
  {
   "cell_type": "code",
   "execution_count": 14,
   "metadata": {},
   "outputs": [
    {
     "name": "stdout",
     "output_type": "stream",
     "text": [
      "bad input\n"
     ]
    }
   ],
   "source": [
    "num = input(\"enter a num\")\n",
    "if num.isnumeric():\n",
    "    print(\"well done\")\n",
    "    num = int(num)\n",
    "else:\n",
    "    \n",
    "    print(\"bad input\")\n"
   ]
  },
  {
   "cell_type": "code",
   "execution_count": 8,
   "metadata": {},
   "outputs": [
    {
     "data": {
      "text/plain": [
       "False"
      ]
     },
     "execution_count": 8,
     "metadata": {},
     "output_type": "execute_result"
    }
   ],
   "source": [
    "a = \"a1\"\n",
    "a.isnumeric()"
   ]
  },
  {
   "cell_type": "markdown",
   "metadata": {},
   "source": [
    "Nested if - else"
   ]
  },
  {
   "cell_type": "code",
   "execution_count": 17,
   "metadata": {},
   "outputs": [
    {
     "name": "stdout",
     "output_type": "stream",
     "text": [
      "wrong email\n"
     ]
    }
   ],
   "source": [
    "username= input('enter the name')\n",
    "email=input(\"enter email\")\n",
    "password= input(\"password\")\n",
    "if username==\"john\":\n",
    "    if email== \"john@gmail.com\":\n",
    "\n",
    "        if password==\"john\":  \n",
    "        \n",
    "            print(\"welcome to wwe\")\n",
    "        else:\n",
    "            print(\"wrong password\")\n",
    "    else:\n",
    "        print(\"wrong email\")\n",
    "else:\n",
    "    print(\"wrong pass\")\n",
    "    \n",
    "          \n"
   ]
  },
  {
   "cell_type": "markdown",
   "metadata": {},
   "source": [
    "Multiple Condition"
   ]
  },
  {
   "cell_type": "code",
   "execution_count": 20,
   "metadata": {},
   "outputs": [
    {
     "name": "stdout",
     "output_type": "stream",
     "text": [
      "wrong username\n"
     ]
    }
   ],
   "source": [
    "username= input('enter the name')\n",
    "email=input(\"enter email\")\n",
    "password= input(\"password\")\n",
    "if username !=\"john\":\n",
    "    print(\"wrong username\")\n",
    "elif email!=\"john@gmail.com\":\n",
    "    print(\"wrong email\")\n",
    "elif password!=\"john\":\n",
    "    print(\"wrong email\")\n",
    "else:\n",
    "    print(\"welcome to WWE\")\n",
    "\n",
    "     \n",
    "\n",
    "\n"
   ]
  },
  {
   "cell_type": "code",
   "execution_count": 2,
   "metadata": {},
   "outputs": [
    {
     "name": "stdout",
     "output_type": "stream",
     "text": [
      "grade is D\n"
     ]
    }
   ],
   "source": [
    "\n",
    "marks = input(\"enter marks\")\n",
    "if marks.isnumeric(): \n",
    "    marks = int(marks)\n",
    "\n",
    "if marks  >= 90:\n",
    "    print(\"grade is A\")\n",
    "elif marks >= 80:\n",
    "    print(\"grade is b\")\n",
    "elif marks >= 70:\n",
    "    print(\"grade is c\")\n",
    "elif marks >= 60:\n",
    "    print(\"grade is D\")\n",
    "\n",
    "else:\n",
    "    print(\"invalid\")\n"
   ]
  },
  {
   "cell_type": "code",
   "execution_count": null,
   "metadata": {},
   "outputs": [],
   "source": []
  },
  {
   "cell_type": "code",
   "execution_count": null,
   "metadata": {},
   "outputs": [],
   "source": []
  }
 ],
 "metadata": {
  "kernelspec": {
   "display_name": "Python 3.9.12 ('base')",
   "language": "python",
   "name": "python3"
  },
  "language_info": {
   "codemirror_mode": {
    "name": "ipython",
    "version": 3
   },
   "file_extension": ".py",
   "mimetype": "text/x-python",
   "name": "python",
   "nbconvert_exporter": "python",
   "pygments_lexer": "ipython3",
   "version": "3.9.12"
  },
  "orig_nbformat": 4,
  "vscode": {
   "interpreter": {
    "hash": "79d71d161e7943240a345005223b4b57f09b9732a24e4917a9c0467b3aef16ea"
   }
  }
 },
 "nbformat": 4,
 "nbformat_minor": 2
}
