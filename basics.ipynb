{
 "cells": [
  {
   "cell_type": "code",
   "execution_count": 1,
   "metadata": {},
   "outputs": [
    {
     "name": "stdout",
     "output_type": "stream",
     "text": [
      "\n"
     ]
    }
   ],
   "source": [
    "print()   "
   ]
  },
  {
   "cell_type": "code",
   "execution_count": 2,
   "metadata": {},
   "outputs": [
    {
     "name": "stdout",
     "output_type": "stream",
     "text": [
      "Mohd usman\n"
     ]
    }
   ],
   "source": [
    "print(\"Mohd usman\")"
   ]
  },
  {
   "cell_type": "code",
   "execution_count": 8,
   "metadata": {},
   "outputs": [
    {
     "data": {
      "text/plain": [
       "'welcome'"
      ]
     },
     "execution_count": 8,
     "metadata": {},
     "output_type": "execute_result"
    }
   ],
   "source": [
    "\"welcome\""
   ]
  },
  {
   "cell_type": "markdown",
   "metadata": {},
   "source": [
    "- Raw output only for developers understanding"
   ]
  },
  {
   "cell_type": "code",
   "execution_count": 7,
   "metadata": {},
   "outputs": [
    {
     "data": {
      "text/plain": [
       "1.0"
      ]
     },
     "execution_count": 7,
     "metadata": {},
     "output_type": "execute_result"
    }
   ],
   "source": [
    "30/30\n"
   ]
  },
  {
   "cell_type": "code",
   "execution_count": 9,
   "metadata": {},
   "outputs": [
    {
     "name": "stdout",
     "output_type": "stream",
     "text": [
      "this is mango it is fruit i like to eat mango\n"
     ]
    }
   ],
   "source": [
    "print('this is mango', 'it is fruit', 'i like to eat mango')"
   ]
  },
  {
   "cell_type": "code",
   "execution_count": 12,
   "metadata": {},
   "outputs": [
    {
     "name": "stdout",
     "output_type": "stream",
     "text": [
      "This is python Data Science \n",
      "we are going to learn code \n",
      "and learn the secrets of python\n"
     ]
    }
   ],
   "source": [
    "print(\"This is python Data Science \")\n",
    "print(\"we are going to learn code \")\n",
    "print(\"and learn the secrets of python\")"
   ]
  },
  {
   "cell_type": "code",
   "execution_count": 16,
   "metadata": {},
   "outputs": [
    {
     "name": "stdout",
     "output_type": "stream",
     "text": [
      "My name is Mohd \n",
      "I am learning python\n"
     ]
    }
   ],
   "source": [
    "print(\"My name is Mohd \\nI am learning python\")"
   ]
  },
  {
   "cell_type": "code",
   "execution_count": 10,
   "metadata": {},
   "outputs": [
    {
     "name": "stdout",
     "output_type": "stream",
     "text": [
      "1 2 3 4.5\n"
     ]
    }
   ],
   "source": [
    "print(1,2,3,4.5)"
   ]
  },
  {
   "cell_type": "markdown",
   "metadata": {},
   "source": [
    "- Its Automactically added \\n"
   ]
  },
  {
   "cell_type": "code",
   "execution_count": 17,
   "metadata": {},
   "outputs": [
    {
     "name": "stdout",
     "output_type": "stream",
     "text": [
      "\n",
      "This is python Data Science \n",
      "we are going to learn code \n",
      "and learn the secrets of python\n",
      "\n"
     ]
    }
   ],
   "source": [
    "print(\"\"\"\n",
    "This is python Data Science \n",
    "we are going to learn coding\n",
    "and learn the secrets of python\n",
    "\"\"\")"
   ]
  },
  {
   "cell_type": "markdown",
   "metadata": {},
   "source": [
    "- There are few setting in print that we can provide whatever we want to print something"
   ]
  },
  {
   "cell_type": "markdown",
   "metadata": {},
   "source": [
    "we are using sep=\"\" for adding any symbol or emoji simultenously\n",
    "Shortcut key for emoji is windows + ."
   ]
  },
  {
   "cell_type": "code",
   "execution_count": 20,
   "metadata": {},
   "outputs": [
    {
     "name": "stdout",
     "output_type": "stream",
     "text": [
      "1🚗😁/2🚗😁/3🚗😁/4🚗😁/5🚗😁/6🚗😁/7🚗😁/89\n"
     ]
    }
   ],
   "source": [
    "print(1,2,3,4,5,6,7,89, sep=\"🚗😁/\")"
   ]
  },
  {
   "cell_type": "markdown",
   "metadata": {},
   "source": [
    "End='' is use for not changing line "
   ]
  },
  {
   "cell_type": "code",
   "execution_count": 23,
   "metadata": {},
   "outputs": [
    {
     "name": "stdout",
     "output_type": "stream",
     "text": [
      "this  is\n",
      "Multiline\n",
      "message\n"
     ]
    }
   ],
   "source": [
    "print(\"this \", end=' ')\n",
    "print(\"is\")\n",
    "print(\"Multiline\")\n",
    "print(\"message\")"
   ]
  },
  {
   "cell_type": "markdown",
   "metadata": {},
   "source": [
    "Variables and Datatypes\n"
   ]
  },
  {
   "cell_type": "code",
   "execution_count": 24,
   "metadata": {},
   "outputs": [],
   "source": [
    "age= 16\n",
    "name = \"usman\"\n",
    "color2 = \"red\"\n",
    "is_sleeping = False"
   ]
  },
  {
   "cell_type": "markdown",
   "metadata": {},
   "source": [
    "- we can change values in variables\n",
    "- *datatype* can be change by changing the values of a variables\n",
    "- For delting variables is we use keyword called *del*\n"
   ]
  },
  {
   "cell_type": "code",
   "execution_count": 38,
   "metadata": {},
   "outputs": [],
   "source": [
    "name=\"Nobita\"\n",
    "age= 19\n",
    "del  age"
   ]
  },
  {
   "cell_type": "markdown",
   "metadata": {},
   "source": [
    "# There are 9 datatypes in python <h3>\n",
    "1. Integer"
   ]
  },
  {
   "cell_type": "code",
   "execution_count": 31,
   "metadata": {},
   "outputs": [],
   "source": [
    "x= 1\n",
    "y= 123456789065432123456776543256765432123456789087654321234567890876543\n",
    "z= -1"
   ]
  },
  {
   "cell_type": "markdown",
   "metadata": {},
   "source": [
    "2. Flaot (Ex- 1.2 , 1.3)"
   ]
  },
  {
   "cell_type": "code",
   "execution_count": 35,
   "metadata": {},
   "outputs": [],
   "source": [
    "x= 1.23\n",
    "y= 7.3\n",
    "z= -9.8\n",
    "t = 89.7e100"
   ]
  },
  {
   "cell_type": "markdown",
   "metadata": {},
   "source": [
    "3. String"
   ]
  },
  {
   "cell_type": "code",
   "execution_count": 36,
   "metadata": {},
   "outputs": [],
   "source": [
    "from turtle import color\n",
    "\n",
    "\n",
    "Name=(\"Nobita\")\n",
    "color=(\"blue\")\n",
    "institute=(\"Digipodium\")\n",
    "\n"
   ]
  },
  {
   "cell_type": "markdown",
   "metadata": {},
   "source": [
    "4. Boolean \n",
    "* Boolean represents one of two values: True or False"
   ]
  },
  {
   "cell_type": "code",
   "execution_count": 39,
   "metadata": {},
   "outputs": [],
   "source": [
    "is_coding= True\n",
    "is_fun= False\n",
    "are_u_bore=True"
   ]
  },
  {
   "cell_type": "markdown",
   "metadata": {},
   "source": [
    "5. Nonetype - When you dont want to store Something but want to create an empty"
   ]
  },
  {
   "cell_type": "markdown",
   "metadata": {},
   "source": [
    "6. Lists\n",
    "* List is an ordered sequence of items \n",
    "* Does not need same type\n",
    "* Within square brackets[]"
   ]
  },
  {
   "cell_type": "code",
   "execution_count": 40,
   "metadata": {},
   "outputs": [],
   "source": [
    "v =[ 1, 2.5 , 20 ]\n",
    "h= [ 1, 2.2 , \"python\"]"
   ]
  },
  {
   "cell_type": "markdown",
   "metadata": {},
   "source": [
    "7. Tuples\n",
    "* we use round brackets ()"
   ]
  },
  {
   "cell_type": "code",
   "execution_count": 41,
   "metadata": {},
   "outputs": [],
   "source": [
    "v =(1, 2.5 , 20) \n",
    "h= (1, 2.2 , \"python\")"
   ]
  },
  {
   "cell_type": "markdown",
   "metadata": {},
   "source": [
    "8. Sets \n",
    "* set is unordered sequence of unique items\n",
    "* they eliminate duplicates\n",
    "* we use {} for set\n"
   ]
  },
  {
   "cell_type": "code",
   "execution_count": 42,
   "metadata": {},
   "outputs": [],
   "source": [
    "v ={1, 2.5 , 20}\n",
    "h= {1, 2.2 , \"python\"}"
   ]
  },
  {
   "cell_type": "markdown",
   "metadata": {},
   "source": [
    "9. Dictionaries\n",
    "* Dictionaries is an order collection \n",
    "* generally used when we have huge amount of data \n",
    "* Dictionaries are defined within braces {}"
   ]
  },
  {
   "cell_type": "code",
   "execution_count": 43,
   "metadata": {},
   "outputs": [],
   "source": [
    "car_info={\n",
    "    \"brand\": \" ford\",\n",
    "    \"model\": \" Mustang\",\n",
    "    \"year\" : \"1964\"\n",
    "}"
   ]
  },
  {
   "cell_type": "markdown",
   "metadata": {},
   "source": [
    "# input in python"
   ]
  },
  {
   "cell_type": "code",
   "execution_count": 46,
   "metadata": {},
   "outputs": [
    {
     "name": "stdout",
     "output_type": "stream",
     "text": [
      "So according to you\n",
      "you are Mohd Usman\n",
      "and you live in lko\n"
     ]
    }
   ],
   "source": [
    "name = input(\"What is your name?\")\n",
    "city= input( \"What city do you live in?\")\n",
    "print(\"So according to you\")\n",
    "print(\"you are\",name)\n",
    "print(\"and you live in\" ,city)"
   ]
  },
  {
   "cell_type": "code",
   "execution_count": null,
   "metadata": {},
   "outputs": [],
   "source": []
  }
 ],
 "metadata": {
  "kernelspec": {
   "display_name": "Python 3.9.12 ('base')",
   "language": "python",
   "name": "python3"
  },
  "language_info": {
   "codemirror_mode": {
    "name": "ipython",
    "version": 3
   },
   "file_extension": ".py",
   "mimetype": "text/x-python",
   "name": "python",
   "nbconvert_exporter": "python",
   "pygments_lexer": "ipython3",
   "version": "3.9.12"
  },
  "orig_nbformat": 4,
  "vscode": {
   "interpreter": {
    "hash": "79d71d161e7943240a345005223b4b57f09b9732a24e4917a9c0467b3aef16ea"
   }
  }
 },
 "nbformat": 4,
 "nbformat_minor": 2
}
