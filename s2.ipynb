'''x="sophomore"
print(x[0])
print(x[3])
print(x[-1])
print(x[4])'''

str = "digipodium"
print("str=" ,str)

#first character
print("str[0]", str[0])
#second character
print("str[1]", str[1])
#last  character
print("str[-1]", str[-1])
#second last chracter
print("str[-2]", str[-2])
