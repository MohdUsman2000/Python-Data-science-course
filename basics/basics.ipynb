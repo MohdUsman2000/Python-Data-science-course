{
 "cells": [
  {
   "cell_type": "code",
   "execution_count": 1,
   "metadata": {},
   "outputs": [
    {
     "name": "stdout",
     "output_type": "stream",
     "text": [
      "\n"
     ]
    }
   ],
   "source": [
    "print()   "
   ]
  },
  {
   "cell_type": "code",
   "execution_count": 2,
   "metadata": {},
   "outputs": [
    {
     "name": "stdout",
     "output_type": "stream",
     "text": [
      "Mohd usman\n"
     ]
    }
   ],
   "source": [
    "print(\"Mohd usman\")"
   ]
  },
  {
   "cell_type": "code",
   "execution_count": 8,
   "metadata": {},
   "outputs": [
    {
     "data": {
      "text/plain": [
       "'welcome'"
      ]
     },
     "execution_count": 8,
     "metadata": {},
     "output_type": "execute_result"
    }
   ],
   "source": [
    "\"welcome\""
   ]
  },
  {
   "cell_type": "markdown",
   "metadata": {},
   "source": [
    "- Raw output only for developers understanding"
   ]
  },
  {
   "cell_type": "code",
   "execution_count": 7,
   "metadata": {},
   "outputs": [
    {
     "data": {
      "text/plain": [
       "1.0"
      ]
     },
     "execution_count": 7,
     "metadata": {},
     "output_type": "execute_result"
    }
   ],
   "source": [
    "30/30\n"
   ]
  },
  {
   "cell_type": "code",
   "execution_count": 9,
   "metadata": {},
   "outputs": [
    {
     "name": "stdout",
     "output_type": "stream",
     "text": [
      "this is mango it is fruit i like to eat mango\n"
     ]
    }
   ],
   "source": [
    "print('this is mango', 'it is fruit', 'i like to eat mango')"
   ]
  },
  {
   "cell_type": "code",
   "execution_count": 12,
   "metadata": {},
   "outputs": [
    {
     "name": "stdout",
     "output_type": "stream",
     "text": [
      "This is python Data Science \n",
      "we are going to learn code \n",
      "and learn the secrets of python\n"
     ]
    }
   ],
   "source": [
    "print(\"This is python Data Science \")\n",
    "print(\"we are going to learn code \")\n",
    "print(\"and learn the secrets of python\")"
   ]
  },
  {
   "cell_type": "code",
   "execution_count": 16,
   "metadata": {},
   "outputs": [
    {
     "name": "stdout",
     "output_type": "stream",
     "text": [
      "My name is Mohd \n",
      "I am learning python\n"
     ]
    }
   ],
   "source": [
    "print(\"My name is Mohd \\nI am learning python\")"
   ]
  },
  {
   "cell_type": "code",
   "execution_count": 10,
   "metadata": {},
   "outputs": [
    {
     "name": "stdout",
     "output_type": "stream",
     "text": [
      "1 2 3 4.5\n"
     ]
    }
   ],
   "source": [
    "print(1,2,3,4.5)"
   ]
  },
  {
   "cell_type": "markdown",
   "metadata": {},
   "source": [
    "- Its Automactically added \\n"
   ]
  },
  {
   "cell_type": "code",
   "execution_count": 17,
   "metadata": {},
   "outputs": [
    {
     "name": "stdout",
     "output_type": "stream",
     "text": [
      "\n",
      "This is python Data Science \n",
      "we are going to learn code \n",
      "and learn the secrets of python\n",
      "\n"
     ]
    }
   ],
   "source": [
    "print(\"\"\"\n",
    "This is python Data Science \n",
    "we are going to learn coding\n",
    "and learn the secrets of python\n",
    "\"\"\")"
   ]
  },
  {
   "cell_type": "markdown",
   "metadata": {},
   "source": [
    "- There are few setting in print that we can provide whatever we want to print something"
   ]
  },
  {
   "cell_type": "markdown",
   "metadata": {},
   "source": [
    "we are using sep=\"\" for adding any symbol or emoji simultenously\n",
    "Shortcut key for emoji is windows + ."
   ]
  },
  {
   "cell_type": "code",
   "execution_count": 20,
   "metadata": {},
   "outputs": [
    {
     "name": "stdout",
     "output_type": "stream",
     "text": [
      "1🚗😁/2🚗😁/3🚗😁/4🚗😁/5🚗😁/6🚗😁/7🚗😁/89\n"
     ]
    }
   ],
   "source": [
    "print(1,2,3,4,5,6,7,89, sep=\"🚗😁/\")"
   ]
  },
  {
   "cell_type": "markdown",
   "metadata": {},
   "source": [
    "End='' is use for not changing line "
   ]
  },
  {
   "cell_type": "code",
   "execution_count": 23,
   "metadata": {},
   "outputs": [
    {
     "name": "stdout",
     "output_type": "stream",
     "text": [
      "this  is\n",
      "Multiline\n",
      "message\n"
     ]
    }
   ],
   "source": [
    "print(\"this \", end=' ')\n",
    "print(\"is\")\n",
    "print(\"Multiline\")\n",
    "print(\"message\")"
   ]
  },
  {
   "cell_type": "markdown",
   "metadata": {},
   "source": [
    "Variables and Datatypes\n"
   ]
  },
  {
   "cell_type": "code",
   "execution_count": 24,
   "metadata": {},
   "outputs": [],
   "source": [
    "age= 16\n",
    "name = \"usman\"\n",
    "color2 = \"red\"\n",
    "is_sleeping = False"
   ]
  },
  {
   "cell_type": "markdown",
   "metadata": {},
   "source": [
    "- we can change values in variables\n",
    "- *datatype* can be change by changing the values of a variables\n",
    "- For delting variables is we use keyword called *del*\n"
   ]
  },
  {
   "cell_type": "code",
   "execution_count": 38,
   "metadata": {},
   "outputs": [],
   "source": [
    "name=\"Nobita\"\n",
    "age= 19\n",
    "del  age"
   ]
  },
  {
   "cell_type": "markdown",
   "metadata": {},
   "source": [
    "# There are 9 datatypes in python <h3>\n",
    "1. Integer"
   ]
  },
  {
   "cell_type": "code",
   "execution_count": 31,
   "metadata": {},
   "outputs": [],
   "source": [
    "x= 1\n",
    "y= 123456789065432123456776543256765432123456789087654321234567890876543\n",
    "z= -1"
   ]
  },
  {
   "cell_type": "markdown",
   "metadata": {},
   "source": [
    "2. Flaot (Ex- 1.2 , 1.3)"
   ]
  },
  {
   "cell_type": "code",
   "execution_count": 35,
   "metadata": {},
   "outputs": [],
   "source": [
    "x= 1.23\n",
    "y= 7.3\n",
    "z= -9.8\n",
    "t = 89.7e100"
   ]
  },
  {
   "cell_type": "markdown",
   "metadata": {},
   "source": [
    "3. String"
   ]
  },
  {
   "cell_type": "code",
   "execution_count": 36,
   "metadata": {},
   "outputs": [],
   "source": [
    "from turtle import color\n",
    "\n",
    "\n",
    "Name=(\"Nobita\")\n",
    "color=(\"blue\")\n",
    "institute=(\"Digipodium\")\n",
    "\n"
   ]
  },
  {
   "cell_type": "markdown",
   "metadata": {},
   "source": [
    "4. Boolean \n",
    "* Boolean represents one of two values: True or False"
   ]
  },
  {
   "cell_type": "code",
   "execution_count": 39,
   "metadata": {},
   "outputs": [],
   "source": [
    "is_coding= True\n",
    "is_fun= False\n",
    "are_u_bore=True"
   ]
  },
  {
   "cell_type": "markdown",
   "metadata": {},
   "source": [
    "5. Nonetype - When you dont want to store Something but want to create an empty"
   ]
  },
  {
   "cell_type": "markdown",
   "metadata": {},
   "source": [
    "6. Lists\n",
    "* List is an ordered sequence of items \n",
    "* Does not need same type\n",
    "* Within square brackets[]"
   ]
  },
  {
   "cell_type": "code",
   "execution_count": 40,
   "metadata": {},
   "outputs": [],
   "source": [
    "v =[ 1, 2.5 , 20 ]\n",
    "h= [ 1, 2.2 , \"python\"]"
   ]
  },
  {
   "cell_type": "markdown",
   "metadata": {},
   "source": [
    "7. Tuples\n",
    "* we use round brackets ()"
   ]
  },
  {
   "cell_type": "code",
   "execution_count": 41,
   "metadata": {},
   "outputs": [],
   "source": [
    "v =(1, 2.5 , 20) \n",
    "h= (1, 2.2 , \"python\")"
   ]
  },
  {
   "cell_type": "markdown",
   "metadata": {},
   "source": [
    "8. Sets \n",
    "* set is unordered sequence of unique items\n",
    "* they eliminate duplicates\n",
    "* we use {} for set\n"
   ]
  },
  {
   "cell_type": "code",
   "execution_count": 42,
   "metadata": {},
   "outputs": [],
   "source": [
    "v ={1, 2.5 , 20}\n",
    "h= {1, 2.2 , \"python\"}"
   ]
  },
  {
   "cell_type": "markdown",
   "metadata": {},
   "source": [
    "9. Dictionaries\n",
    "* Dictionaries is an order collection \n",
    "* generally used when we have huge amount of data \n",
    "* Dictionaries are defined within braces {}"
   ]
  },
  {
   "cell_type": "code",
   "execution_count": 43,
   "metadata": {},
   "outputs": [],
   "source": [
    "car_info={\n",
    "    \"brand\": \" ford\",\n",
    "    \"model\": \" Mustang\",\n",
    "    \"year\" : \"1964\"\n",
    "}"
   ]
  },
  {
   "cell_type": "markdown",
   "metadata": {},
   "source": [
    "# input in python"
   ]
  },
  {
   "cell_type": "code",
   "execution_count": 46,
   "metadata": {},
   "outputs": [
    {
     "name": "stdout",
     "output_type": "stream",
     "text": [
      "So according to you\n",
      "you are Mohd Usman\n",
      "and you live in lko\n"
     ]
    }
   ],
   "source": [
    "name = input(\"What is your name?\")\n",
    "city= input( \"What city do you live in?\")\n",
    "print(\"So according to you\")\n",
    "print(\"you are\",name)\n",
    "print(\"and you live in\" ,city)"
   ]
  },
  {
   "cell_type": "markdown",
   "metadata": {},
   "source": [
    "### Operators\n"
   ]
  },
  {
   "cell_type": "code",
   "execution_count": 1,
   "metadata": {},
   "outputs": [
    {
     "name": "stdout",
     "output_type": "stream",
     "text": [
      "5\n",
      "-1\n",
      "6\n",
      "0.6666666666666666\n"
     ]
    }
   ],
   "source": [
    "#arithmetic operators\n",
    "a=2\n",
    "b=3\n",
    "print(a+b) #add\n",
    "print(a-b) #sub\n",
    "print(a*b) #mul\n",
    "print(a/b) #float div \n",
    "print(a//b) #int div\n",
    "print(a%b) #remainder\n",
    "2**10 #exponentiation"
   ]
  },
  {
   "cell_type": "code",
   "execution_count": 3,
   "metadata": {},
   "outputs": [],
   "source": [
    "#assignment operators\n",
    "a = 10\n",
    "b = 5\n",
    "c = 20\n",
    "# Alternate way to assign a value to a variable\n",
    "x,y,z=10,20,30\n"
   ]
  },
  {
   "cell_type": "code",
   "execution_count": 5,
   "metadata": {},
   "outputs": [],
   "source": [
    "#Notation and Updation \n",
    "a+= 2 #update a with a+2\n",
    "a-= 2\n",
    "a*= 2\n",
    "a%= 2\n",
    "a/= 2\n",
    "a//= 2\n",
    "a**= 2\n"
   ]
  },
  {
   "cell_type": "code",
   "execution_count": 1,
   "metadata": {},
   "outputs": [
    {
     "ename": "NameError",
     "evalue": "name 'a' is not defined",
     "output_type": "error",
     "traceback": [
      "\u001b[1;31m---------------------------------------------------------------------------\u001b[0m",
      "\u001b[1;31mNameError\u001b[0m                                 Traceback (most recent call last)",
      "\u001b[1;32mc:\\Users\\hp\\Desktop\\Python DS\\basics.ipynb Cell 44\u001b[0m in \u001b[0;36m<cell line: 2>\u001b[1;34m()\u001b[0m\n\u001b[0;32m      <a href='vscode-notebook-cell:/c%3A/Users/hp/Desktop/Python%20DS/basics.ipynb#ch0000043?line=0'>1</a>\u001b[0m \u001b[39m#Comparision operators\u001b[39;00m\n\u001b[1;32m----> <a href='vscode-notebook-cell:/c%3A/Users/hp/Desktop/Python%20DS/basics.ipynb#ch0000043?line=1'>2</a>\u001b[0m \u001b[39mprint\u001b[39m(a\u001b[39m>\u001b[39mb)  \u001b[39m# greater than\u001b[39;00m\n\u001b[0;32m      <a href='vscode-notebook-cell:/c%3A/Users/hp/Desktop/Python%20DS/basics.ipynb#ch0000043?line=2'>3</a>\u001b[0m \u001b[39mprint\u001b[39m(a\u001b[39m>\u001b[39m\u001b[39m=\u001b[39mb) \u001b[39m# greater than or equal to\u001b[39;00m\n\u001b[0;32m      <a href='vscode-notebook-cell:/c%3A/Users/hp/Desktop/Python%20DS/basics.ipynb#ch0000043?line=3'>4</a>\u001b[0m \u001b[39mprint\u001b[39m(a\u001b[39m<\u001b[39mb)  \u001b[39m# less than\u001b[39;00m\n",
      "\u001b[1;31mNameError\u001b[0m: name 'a' is not defined"
     ]
    }
   ],
   "source": [
    "#Comparision operators\n",
    "print(a>b)  # greater than\n",
    "print(a>=b) # greater than or equal to\n",
    "print(a<b)  # less than\n",
    "print(a<=b) # less than or equal to\n",
    "print(a==b) # equal to\n",
    "print(a!=b) # not equal to"
   ]
  },
  {
   "cell_type": "code",
   "execution_count": 8,
   "metadata": {},
   "outputs": [
    {
     "name": "stdout",
     "output_type": "stream",
     "text": [
      "False\n",
      "False\n",
      "False\n",
      "True\n",
      "True\n",
      "True\n",
      "False\n",
      "False\n"
     ]
    }
   ],
   "source": [
    "#logical operators(and , or , not)\n",
    "print(a>b and a>5)\n",
    "print(a<b and a>5)\n",
    "print(a>b or a>5)\n",
    "print(a<b or a>5)\n",
    "print(a<b or a<5)\n",
    "print(not a>b)\n",
    "print(not a<b)\n",
    "print(not a and not b and not c)"
   ]
  },
  {
   "cell_type": "code",
   "execution_count": 10,
   "metadata": {},
   "outputs": [
    {
     "name": "stdout",
     "output_type": "stream",
     "text": [
      "True\n",
      "True\n",
      "False\n",
      "True\n",
      "False\n"
     ]
    }
   ],
   "source": [
    "#membership operators (in)\n",
    "#Searching in lists\n",
    "colors =['red', 'blue', 'white' , 'purple', 'yellow']\n",
    "print('red' in colors)\n",
    "print('blue' in colors)\n",
    "print('Red' in colors)\n",
    "print('white' in colors)\n",
    "print('green' in colors)\n",
    "\n"
   ]
  },
  {
   "cell_type": "code",
   "execution_count": 11,
   "metadata": {},
   "outputs": [
    {
     "name": "stdout",
     "output_type": "stream",
     "text": [
      "True\n",
      "False\n"
     ]
    }
   ],
   "source": [
    "msg =\"its the journey thats matters\"\n",
    "print('journey' in msg)\n",
    "print('destination' in msg)"
   ]
  },
  {
   "cell_type": "code",
   "execution_count": null,
   "metadata": {},
   "outputs": [],
   "source": [
    "# is operator check wether two objects belong to same memory location or not"
   ]
  },
  {
   "cell_type": "markdown",
   "metadata": {},
   "source": [
    "questions \n",
    "- wap to calculate the area of circle\n",
    "- wap to calculate the area of rectangle\n",
    "- wap to calculate the area of triangle\n"
   ]
  },
  {
   "cell_type": "code",
   "execution_count": 13,
   "metadata": {},
   "outputs": [
    {
     "name": "stdout",
     "output_type": "stream",
     "text": [
      "12.56\n"
     ]
    }
   ],
   "source": [
    "r= 2\n",
    "\n",
    "area = 3.14 *r*r\n",
    "print(area)"
   ]
  },
  {
   "cell_type": "code",
   "execution_count": 15,
   "metadata": {},
   "outputs": [
    {
     "name": "stdout",
     "output_type": "stream",
     "text": [
      "12.56 for a circle with radius  4\n"
     ]
    }
   ],
   "source": [
    "radius =int( input('enter the radius of circle:'))\n",
    "area = 3.14 *r*r\n",
    "print(area, 'for a circle with radius ', radius)\n"
   ]
  },
  {
   "cell_type": "code",
   "execution_count": 16,
   "metadata": {},
   "outputs": [
    {
     "name": "stdout",
     "output_type": "stream",
     "text": [
      "16.0\n"
     ]
    }
   ],
   "source": [
    "l= float (input('Enter the length='))\n",
    "b= float (input('Enter the breath='))\n",
    "area=l*b\n",
    "print(area)"
   ]
  },
  {
   "cell_type": "code",
   "execution_count": 21,
   "metadata": {},
   "outputs": [
    {
     "name": "stdout",
     "output_type": "stream",
     "text": [
      "Area of triangle is 18.0\n"
     ]
    }
   ],
   "source": [
    "l= float (input('Enter the hieght =>'))\n",
    "b= float (input('Enter the base=>'))\n",
    "area_of_traingle= 0.5 * l*b\n",
    "print (\"Area of triangle is\",area_of_traingle)"
   ]
  },
  {
   "cell_type": "code",
   "execution_count": 20,
   "metadata": {},
   "outputs": [
    {
     "data": {
      "text/plain": [
       "3.141592653589793"
      ]
     },
     "execution_count": 20,
     "metadata": {},
     "output_type": "execute_result"
    }
   ],
   "source": [
    "import math\n",
    "math.pi"
   ]
  },
  {
   "cell_type": "code",
   "execution_count": 22,
   "metadata": {},
   "outputs": [
    {
     "name": "stdout",
     "output_type": "stream",
     "text": [
      "hypotenuse is 8.485281374238571\n"
     ]
    }
   ],
   "source": [
    "p= float (input('Enter the perpendicular =>'))\n",
    "b= float (input('Enter the base=>'))\n",
    "h= math.hypot(p,b)\n",
    "print(\"hypotenuse is\",h)"
   ]
  },
  {
   "cell_type": "code",
   "execution_count": 23,
   "metadata": {},
   "outputs": [
    {
     "name": "stdout",
     "output_type": "stream",
     "text": [
      "Factorial of 6 is 720\n"
     ]
    }
   ],
   "source": [
    "num = int(input(\"enter a number\"))\n",
    "fact= math.factorial(num)\n",
    "print(\"Factorial of\", num , 'is', fact)\n"
   ]
  },
  {
   "cell_type": "code",
   "execution_count": 24,
   "metadata": {},
   "outputs": [
    {
     "name": "stdout",
     "output_type": "stream",
     "text": [
      "['__doc__', '__loader__', '__name__', '__package__', '__spec__', 'acos', 'acosh', 'asin', 'asinh', 'atan', 'atan2', 'atanh', 'ceil', 'comb', 'copysign', 'cos', 'cosh', 'degrees', 'dist', 'e', 'erf', 'erfc', 'exp', 'expm1', 'fabs', 'factorial', 'floor', 'fmod', 'frexp', 'fsum', 'gamma', 'gcd', 'hypot', 'inf', 'isclose', 'isfinite', 'isinf', 'isnan', 'isqrt', 'lcm', 'ldexp', 'lgamma', 'log', 'log10', 'log1p', 'log2', 'modf', 'nan', 'nextafter', 'perm', 'pi', 'pow', 'prod', 'radians', 'remainder', 'sin', 'sinh', 'sqrt', 'tan', 'tanh', 'tau', 'trunc', 'ulp']\n"
     ]
    }
   ],
   "source": [
    "print(dir(math))"
   ]
  },
  {
   "cell_type": "code",
   "execution_count": 1,
   "metadata": {},
   "outputs": [
    {
     "name": "stdout",
     "output_type": "stream",
     "text": [
      "Compund Interest is 1.146096\n"
     ]
    }
   ],
   "source": [
    "\n",
    "p= float(input('enter principal'))\n",
    "R= float(input('enter rate'))\n",
    "T= float(input('enter time'))\n",
    "A =p * (pow((1 + R / 100), T))\n",
    "CI= A - p\n",
    "print ('Compund Interest is', CI)"
   ]
  },
  {
   "cell_type": "markdown",
   "metadata": {},
   "source": [
    "string settings\n",
    "- r = raw string\n",
    "- f =formatted string\n",
    "- b = byte string"
   ]
  },
  {
   "cell_type": "code",
   "execution_count": 2,
   "metadata": {},
   "outputs": [
    {
     "name": "stdout",
     "output_type": "stream",
     "text": [
      "i have apple\n",
      "i have banana\n",
      "i have mango\n"
     ]
    }
   ],
   "source": [
    "##formatted string = f\n",
    "fruits =[\"apple\", \"banana\", \"mango\"]\n",
    "for item in fruits:\n",
    "    print(f\"i have {item}\")"
   ]
  },
  {
   "cell_type": "code",
   "execution_count": 2,
   "metadata": {},
   "outputs": [
    {
     "name": "stdout",
     "output_type": "stream",
     "text": [
      "25\n"
     ]
    }
   ],
   "source": [
    "from unittest import result\n",
    "\n",
    "\n",
    "def pow(b,p):\n",
    "    y = b** p\n",
    "    return y\n",
    "def square(x):\n",
    "    a = pow(x,2)\n",
    "    return a\n",
    "n=5\n",
    "result = square(n)\n",
    "print(result)"
   ]
  },
  {
   "cell_type": "code",
   "execution_count": 3,
   "metadata": {},
   "outputs": [
    {
     "name": "stdout",
     "output_type": "stream",
     "text": [
      "old\n"
     ]
    }
   ],
   "source": [
    "class test:\n",
    "    def __init__(self):\n",
    "        self.variable = 'old'\n",
    "        self.Change(self.variable)\n",
    "    def Change(self, var):\n",
    "        var = 'New'\n",
    "obj = test()\n",
    "print(obj.variable)\n",
    "     "
   ]
  },
  {
   "cell_type": "code",
   "execution_count": 4,
   "metadata": {},
   "outputs": [
    {
     "name": "stdout",
     "output_type": "stream",
     "text": [
      "hello world\n",
      "hello world\n"
     ]
    }
   ],
   "source": [
    "def sayhello():\n",
    "    print('hello world')\n",
    "sayhello()\n",
    "sayhello()"
   ]
  },
  {
   "cell_type": "code",
   "execution_count": 5,
   "metadata": {},
   "outputs": [
    {
     "name": "stdout",
     "output_type": "stream",
     "text": [
      "__main__\n"
     ]
    }
   ],
   "source": [
    "class Demo:\n",
    "    def __init__(self):\n",
    "        pass\n",
    "    def test(self):\n",
    "        print(__name__)\n",
    "obj = Demo()\n",
    "obj.test()"
   ]
  },
  {
   "cell_type": "code",
   "execution_count": 6,
   "metadata": {},
   "outputs": [],
   "source": [
    "class A:\n",
    "    def __init__(self,b):\n",
    "        self.b = b\n",
    "    def display(self):\n",
    "        print(self.b)\n",
    "obj = A('hello')\n",
    "del obj\n",
    "        "
   ]
  },
  {
   "cell_type": "code",
   "execution_count": 7,
   "metadata": {},
   "outputs": [
    {
     "name": "stdout",
     "output_type": "stream",
     "text": [
      "0\n"
     ]
    }
   ],
   "source": [
    "i = 0\n",
    "def change(i):\n",
    "    i = i+1\n",
    "    return i\n",
    "change(1)\n",
    "print(i)"
   ]
  },
  {
   "cell_type": "code",
   "execution_count": 8,
   "metadata": {},
   "outputs": [
    {
     "name": "stdout",
     "output_type": "stream",
     "text": [
      "mohd\n"
     ]
    }
   ],
   "source": [
    "class demo():\n",
    "    def __repr__(self):\n",
    "        return'usman'\n",
    "    def __str__(self) :\n",
    "        return 'mohd'\n",
    "s = demo()\n",
    "print(s)\n",
    "        \n",
    "\n",
    "    "
   ]
  },
  {
   "cell_type": "code",
   "execution_count": 9,
   "metadata": {},
   "outputs": [
    {
     "name": "stdout",
     "output_type": "stream",
     "text": [
      "-3 5\n"
     ]
    }
   ],
   "source": [
    "def test(a, b =5):\n",
    "    print(a,b)\n",
    "test(-3)\n",
    "     "
   ]
  },
  {
   "cell_type": "code",
   "execution_count": 10,
   "metadata": {},
   "outputs": [
    {
     "ename": "SyntaxError",
     "evalue": "invalid syntax (554463830.py, line 1)",
     "output_type": "error",
     "traceback": [
      "\u001b[1;36m  Input \u001b[1;32mIn [10]\u001b[1;36m\u001b[0m\n\u001b[1;33m    def func(a , b=5 c=10):\u001b[0m\n\u001b[1;37m                     ^\u001b[0m\n\u001b[1;31mSyntaxError\u001b[0m\u001b[1;31m:\u001b[0m invalid syntax\n"
     ]
    }
   ],
   "source": []
  },
  {
   "cell_type": "code",
   "execution_count": 1,
   "metadata": {},
   "outputs": [
    {
     "name": "stdout",
     "output_type": "stream",
     "text": [
      "13\n"
     ]
    }
   ],
   "source": [
    "class fruits :\n",
    "    def __init__(self,price):\n",
    "        self.price = price\n",
    "obj = fruits(50)\n",
    "\n",
    "obj.quantity=10\n",
    "obj.bags=2\n",
    "print(obj.quantity+len(obj.__dict__))    \n",
    "        "
   ]
  },
  {
   "cell_type": "code",
   "execution_count": 3,
   "metadata": {},
   "outputs": [],
   "source": [
    "class A:\n",
    "    pass"
   ]
  },
  {
   "cell_type": "code",
   "execution_count": 4,
   "metadata": {},
   "outputs": [
    {
     "name": "stdout",
     "output_type": "stream",
     "text": [
      "True\n"
     ]
    }
   ],
   "source": [
    "class stud:\n",
    "    def __init__(self, roll_no , grade):\n",
    "        self.roll_no = roll_no\n",
    "        self.grade = grade\n",
    "    def display(self):\n",
    "        print('roll no.:', self.roll_no, ',grade', self.grade)\n",
    "stud1 = stud(34,'s')\n",
    "stud.age=7\n",
    "print(hasattr(stud1,'age'))"
   ]
  },
  {
   "cell_type": "code",
   "execution_count": 7,
   "metadata": {},
   "outputs": [
    {
     "name": "stdout",
     "output_type": "stream",
     "text": [
      "7\n"
     ]
    }
   ],
   "source": [
    "class change :\n",
    "    def __init__(self, x,y, z):\n",
    "        self.a = x+y+z\n",
    "x = change(1,2,3)\n",
    "y = getattr(x, 'a')\n",
    "setattr(x, 'a', y+1)\n",
    "print(x.a)"
   ]
  },
  {
   "cell_type": "code",
   "execution_count": null,
   "metadata": {},
   "outputs": [],
   "source": []
  }
 ],
 "metadata": {
  "kernelspec": {
   "display_name": "Python 3.9.12 ('base')",
   "language": "python",
   "name": "python3"
  },
  "language_info": {
   "codemirror_mode": {
    "name": "ipython",
    "version": 3
   },
   "file_extension": ".py",
   "mimetype": "text/x-python",
   "name": "python",
   "nbconvert_exporter": "python",
   "pygments_lexer": "ipython3",
   "version": "3.9.12"
  },
  "orig_nbformat": 4,
  "vscode": {
   "interpreter": {
    "hash": "79d71d161e7943240a345005223b4b57f09b9732a24e4917a9c0467b3aef16ea"
   }
  }
 },
 "nbformat": 4,
 "nbformat_minor": 2
}
