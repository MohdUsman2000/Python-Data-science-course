{
 "cells": [
  {
   "cell_type": "code",
   "execution_count": 3,
   "metadata": {},
   "outputs": [],
   "source": [
    "#lists of string\n",
    "list1 = [ 'usman', 'rayan', 'Anu', 'haseeb']\n",
    "\n",
    "# lists of no.\n",
    "\n",
    "list2= [1,2,3,4,5,6,7,8]\n",
    "\n",
    "#mixed data lists\n",
    "lists3 =[ 'ravi', 90,100, False, 'B' ]\n",
    "\n",
    "#nested list\n",
    "lists4 =[ [1,2,3],[100,6], [7,8] ]"
   ]
  },
  {
   "cell_type": "code",
   "execution_count": 4,
   "metadata": {},
   "outputs": [
    {
     "name": "stdout",
     "output_type": "stream",
     "text": [
      "['usman', 'rayan', 'Anu', 'haseeb']\n"
     ]
    }
   ],
   "source": [
    "print(list1)"
   ]
  },
  {
   "cell_type": "code",
   "execution_count": 8,
   "metadata": {},
   "outputs": [
    {
     "name": "stdout",
     "output_type": "stream",
     "text": [
      "list1=  [2, 3, 4, 'A', 10, 'C', 20]\n",
      "list1[0]= list[0]\n",
      "list1[2]= list[2]\n",
      "list1[-1]= list[-1]\n",
      "list1[-3]= list[-3]\n"
     ]
    }
   ],
   "source": [
    "#accessing lists items in python\n",
    "list1 = [ 2,3,4, 'A',10, 'C', 20]\n",
    "print('list1= ', list1)\n",
    "\n",
    "#first item\n",
    "print(\"list1[0]=\",list[0])\n",
    "\n",
    "# third item\n",
    "print(\"list1[2]=\",list[2])\n",
    "\n",
    "#last item\n",
    "print(\"list1[-1]=\",list[-1])\n",
    "\n",
    "#last third item\n",
    "print(\"list1[-3]=\",list[-3])\n",
    "\n"
   ]
  },
  {
   "cell_type": "code",
   "execution_count": 11,
   "metadata": {},
   "outputs": [
    {
     "name": "stdout",
     "output_type": "stream",
     "text": [
      "[4, 5, 67, 8, 90]\n"
     ]
    }
   ],
   "source": [
    "#getting a list slice\n",
    "l= [1,2,3,4,5,67,8,90,9,70]\n",
    "slice1 = l[3:-2]\n",
    "print(slice1)\n"
   ]
  },
  {
   "cell_type": "code",
   "execution_count": 16,
   "metadata": {},
   "outputs": [],
   "source": [
    "books = [\n",
    "    'RD sharma',\n",
    "    'java',\n",
    "    'clamaity',\n",
    "    'OS',\n",
    "    'legion',\n",
    "    'steelheart',\n",
    "    'warbreaker',\n",
    "]"
   ]
  },
  {
   "cell_type": "code",
   "execution_count": 17,
   "metadata": {},
   "outputs": [
    {
     "data": {
      "text/plain": [
       "['RD sharma', 'java', 'clamaity']"
      ]
     },
     "execution_count": 17,
     "metadata": {},
     "output_type": "execute_result"
    }
   ],
   "source": [
    "books[:3] #first 3 books\n"
   ]
  },
  {
   "cell_type": "code",
   "execution_count": 18,
   "metadata": {},
   "outputs": [
    {
     "data": {
      "text/plain": [
       "['legion', 'steelheart', 'warbreaker']"
      ]
     },
     "execution_count": 18,
     "metadata": {},
     "output_type": "execute_result"
    }
   ],
   "source": [
    "books[-3:] #last 3 books\n"
   ]
  },
  {
   "cell_type": "code",
   "execution_count": 19,
   "metadata": {},
   "outputs": [
    {
     "data": {
      "text/plain": [
       "['OS']"
      ]
     },
     "execution_count": 19,
     "metadata": {},
     "output_type": "execute_result"
    }
   ],
   "source": [
    "books[3:-3] # all except first three and last three"
   ]
  },
  {
   "cell_type": "code",
   "execution_count": 25,
   "metadata": {},
   "outputs": [
    {
     "name": "stdout",
     "output_type": "stream",
     "text": [
      "['RD sharma', 'java', 'clamaity', 'OS', 'legion', 'steelheart', 'warbreaker', 'fire fighter', 'fire fighter', 'RS agarwal', 'ssc', 'fire fighter', 'RS agarwal']\n"
     ]
    }
   ],
   "source": [
    "books.append('fire fighter')\n",
    "books.append('RS agarwal')\n",
    "print(books)"
   ]
  },
  {
   "cell_type": "code",
   "execution_count": 24,
   "metadata": {},
   "outputs": [],
   "source": [
    "bookname = input('enter book name')\n",
    "books.append('ssc')"
   ]
  },
  {
   "cell_type": "code",
   "execution_count": 30,
   "metadata": {},
   "outputs": [
    {
     "name": "stdout",
     "output_type": "stream",
     "text": [
      "['RD sharma', 'java', 'clamaity', 'OS', 'legion', 'steelheart', 'The hero of ages', 'warbreaker', 'fire fighter', 'fire fighter', 'RS agarwal', 'ssc', 'fire fighter', 'RS agarwal']\n"
     ]
    }
   ],
   "source": [
    "books.insert(6, 'The hero of ages')\n",
    "print(books)"
   ]
  },
  {
   "cell_type": "code",
   "execution_count": 33,
   "metadata": {},
   "outputs": [
    {
     "name": "stdout",
     "output_type": "stream",
     "text": [
      "['RD sharma', 'java', 'clamaity', 'OS', 'legion', 'steelheart', 'The hero of ages', 'warbreaker', 'fire fighter', 'fire fighter', 'RS agarwal', 'ssc', 'fire fighter', 'RS agarwal', 'The hero of ages', 'sillicon valley', 'silicon valley']\n"
     ]
    }
   ],
   "source": [
    "books.insert(100, 'silicon valley')\n",
    "print(books)"
   ]
  },
  {
   "cell_type": "code",
   "execution_count": 57,
   "metadata": {},
   "outputs": [
    {
     "name": "stdout",
     "output_type": "stream",
     "text": [
      "['RD sharma', 'java', 'clamaity', 'OS', 'legion', 'steelheart', 'The hero of ages', 'warbreaker', 'fire fighter', 'fire fighter', 'RS agarwal', 'ssc', 'fire fighter', 'RS agarwal', 'The hero of ages', 'sillicon valley', 'silicon valley']\n"
     ]
    }
   ],
   "source": [
    "books.reverse() \n",
    "print(books)"
   ]
  },
  {
   "cell_type": "markdown",
   "metadata": {},
   "source": [
    "list of 11 function"
   ]
  },
  {
   "cell_type": "code",
   "execution_count": 21,
   "metadata": {},
   "outputs": [
    {
     "data": {
      "text/plain": [
       "['apple', 'banana', 'cherry', 'guava', 'mango']"
      ]
     },
     "execution_count": 21,
     "metadata": {},
     "output_type": "execute_result"
    }
   ],
   "source": [
    "#append\n",
    "fruits =[] # empty list\n",
    "fruits.append(\"apple\")\n",
    "fruits.append(\"banana\")\n",
    "fruits.append(\"cherry\")\n",
    "fruits.append(\"guava\")\n",
    "fruits.append(\"mango\")\n",
    "fruits"
   ]
  },
  {
   "cell_type": "code",
   "execution_count": 39,
   "metadata": {},
   "outputs": [
    {
     "data": {
      "text/plain": [
       "['orange', 'apple', 'banana', 'cherry']"
      ]
     },
     "execution_count": 39,
     "metadata": {},
     "output_type": "execute_result"
    }
   ],
   "source": [
    "fruits = [ 'apple', 'banana', 'cherry']\n",
    "fruits.insert(0, 'orange')\n",
    "fruits"
   ]
  },
  {
   "cell_type": "code",
   "execution_count": 40,
   "metadata": {},
   "outputs": [
    {
     "data": {
      "text/plain": [
       "['orange', 'apple', 'banana', 'cherry', 'almond', 'cashew', 'walnut']"
      ]
     },
     "execution_count": 40,
     "metadata": {},
     "output_type": "execute_result"
    }
   ],
   "source": [
    "dry_fruits = ['almond', 'cashew', 'walnut']\n",
    "fruits.extend(dry_fruits)\n",
    "fruits"
   ]
  },
  {
   "cell_type": "code",
   "execution_count": 41,
   "metadata": {},
   "outputs": [
    {
     "data": {
      "text/plain": [
       "['almond', 'apple', 'banana', 'cashew', 'cherry', 'orange', 'walnut']"
      ]
     },
     "execution_count": 41,
     "metadata": {},
     "output_type": "execute_result"
    }
   ],
   "source": [
    "\n",
    "fruits.sort()\n",
    "fruits\n"
   ]
  },
  {
   "cell_type": "code",
   "execution_count": 42,
   "metadata": {},
   "outputs": [
    {
     "data": {
      "text/plain": [
       "['walnut', 'orange', 'cherry', 'cashew', 'banana', 'apple', 'almond']"
      ]
     },
     "execution_count": 42,
     "metadata": {},
     "output_type": "execute_result"
    }
   ],
   "source": [
    "fruits.sort(reverse = True) #for reverse sort\n",
    "fruits"
   ]
  },
  {
   "cell_type": "code",
   "execution_count": 44,
   "metadata": {},
   "outputs": [
    {
     "data": {
      "text/plain": [
       "[1, 1, 1, 1, 1, 1, 2, 2, 2, 2, 3, 3, 3, 4, 4, 4, 5, 5, 5, 5]"
      ]
     },
     "execution_count": 44,
     "metadata": {},
     "output_type": "execute_result"
    }
   ],
   "source": [
    "x= [1,2,3,3,3,1,1,4,4,4,5,5,5,5,2,2,2,1,1,1,]\n",
    "x.sort()\n",
    "x"
   ]
  },
  {
   "cell_type": "code",
   "execution_count": 55,
   "metadata": {},
   "outputs": [
    {
     "name": "stdout",
     "output_type": "stream",
     "text": [
      "not found\n",
      "[1, 1, 1, 1, 1, 1, 2, 2, 2, 2, 4, 4, 4, 5, 5, 5, 5]\n"
     ]
    }
   ],
   "source": [
    "x.remove(3) if 3 in x else print(\"not found\")\n",
    "print(x)"
   ]
  },
  {
   "cell_type": "code",
   "execution_count": 59,
   "metadata": {},
   "outputs": [
    {
     "data": {
      "text/plain": [
       "6"
      ]
     },
     "execution_count": 59,
     "metadata": {},
     "output_type": "execute_result"
    }
   ],
   "source": [
    "x.count(1) #count function"
   ]
  },
  {
   "cell_type": "code",
   "execution_count": 54,
   "metadata": {},
   "outputs": [
    {
     "data": {
      "text/plain": [
       "['orange', 'cashew', 'banana']"
      ]
     },
     "execution_count": 54,
     "metadata": {},
     "output_type": "execute_result"
    }
   ],
   "source": [
    "#remove fuction\n",
    "fruits.remove('cherry')\n",
    "fruits"
   ]
  },
  {
   "cell_type": "code",
   "execution_count": 48,
   "metadata": {},
   "outputs": [
    {
     "data": {
      "text/plain": [
       "'apple'"
      ]
     },
     "execution_count": 48,
     "metadata": {},
     "output_type": "execute_result"
    }
   ],
   "source": [
    "fruits.pop(-1)\n"
   ]
  },
  {
   "cell_type": "code",
   "execution_count": 58,
   "metadata": {},
   "outputs": [
    {
     "data": {
      "text/plain": [
       "['banana', 'cashew', 'orange']"
      ]
     },
     "execution_count": 58,
     "metadata": {},
     "output_type": "execute_result"
    }
   ],
   "source": [
    "fruits.reverse()\n",
    "fruits"
   ]
  },
  {
   "cell_type": "code",
   "execution_count": 61,
   "metadata": {},
   "outputs": [],
   "source": [
    "#index Fuction\n",
    "movies = ['Iron man', 'batman', 'avengers', 'spider man no way home ', 'vemon', 'Thor']\n"
   ]
  },
  {
   "cell_type": "code",
   "execution_count": 65,
   "metadata": {},
   "outputs": [
    {
     "data": {
      "text/plain": [
       "2"
      ]
     },
     "execution_count": 65,
     "metadata": {},
     "output_type": "execute_result"
    }
   ],
   "source": [
    "movies.index('avengers')"
   ]
  },
  {
   "cell_type": "code",
   "execution_count": 66,
   "metadata": {},
   "outputs": [
    {
     "data": {
      "text/plain": [
       "6"
      ]
     },
     "execution_count": 66,
     "metadata": {},
     "output_type": "execute_result"
    }
   ],
   "source": [
    "len(movies)"
   ]
  },
  {
   "cell_type": "code",
   "execution_count": 69,
   "metadata": {},
   "outputs": [
    {
     "data": {
      "text/plain": [
       "['batman', 'avengers', 'spider man no way home ', 'vemon', 'Thor']"
      ]
     },
     "execution_count": 69,
     "metadata": {},
     "output_type": "execute_result"
    }
   ],
   "source": [
    "movies[movies.index(\"batman\") :]"
   ]
  },
  {
   "cell_type": "code",
   "execution_count": 70,
   "metadata": {},
   "outputs": [
    {
     "data": {
      "text/plain": [
       "['banana', 'cashew', 'orange']"
      ]
     },
     "execution_count": 70,
     "metadata": {},
     "output_type": "execute_result"
    }
   ],
   "source": [
    "#copy function\n",
    "fruits"
   ]
  },
  {
   "cell_type": "code",
   "execution_count": 71,
   "metadata": {},
   "outputs": [
    {
     "name": "stdout",
     "output_type": "stream",
     "text": [
      "['banana', 'cashew', 'orange']\n"
     ]
    }
   ],
   "source": [
    "dup_fruits = fruits.copy()\n",
    "print(dup_fruits)"
   ]
  },
  {
   "cell_type": "code",
   "execution_count": 72,
   "metadata": {},
   "outputs": [],
   "source": [
    "#clear function\n",
    "fruits.clear()"
   ]
  },
  {
   "cell_type": "code",
   "execution_count": 73,
   "metadata": {},
   "outputs": [
    {
     "data": {
      "text/plain": [
       "[]"
      ]
     },
     "execution_count": 73,
     "metadata": {},
     "output_type": "execute_result"
    }
   ],
   "source": [
    "fruits"
   ]
  },
  {
   "cell_type": "code",
   "execution_count": 74,
   "metadata": {},
   "outputs": [
    {
     "data": {
      "text/plain": [
       "'silicon valley'"
      ]
     },
     "execution_count": 74,
     "metadata": {},
     "output_type": "execute_result"
    }
   ],
   "source": [
    "#pop function\n",
    "books.pop()"
   ]
  },
  {
   "cell_type": "code",
   "execution_count": 75,
   "metadata": {},
   "outputs": [
    {
     "data": {
      "text/plain": [
       "'RS agarwal'"
      ]
     },
     "execution_count": 75,
     "metadata": {},
     "output_type": "execute_result"
    }
   ],
   "source": [
    "books.pop(-3)"
   ]
  },
  {
   "cell_type": "markdown",
   "metadata": {},
   "source": [
    "wap to create a list of 5 values given by the user"
   ]
  },
  {
   "cell_type": "code",
   "execution_count": 77,
   "metadata": {},
   "outputs": [
    {
     "name": "stdout",
     "output_type": "stream",
     "text": [
      "['mango', 'apple', 'banana', 'pomogranete', 'papaya']\n"
     ]
    }
   ],
   "source": [
    "ex = []\n",
    "for i in range(5):\n",
    "    val = input(f'enter value {i+1}: ')\n",
    "    ex.append(val)\n",
    "print(ex)"
   ]
  },
  {
   "cell_type": "markdown",
   "metadata": {},
   "source": [
    "wap to display sum of lists"
   ]
  },
  {
   "cell_type": "code",
   "execution_count": 80,
   "metadata": {},
   "outputs": [
    {
     "name": "stdout",
     "output_type": "stream",
     "text": [
      "378\n"
     ]
    }
   ],
   "source": [
    "data = [23,54,67,99,90,45]\n",
    "total = 0\n",
    "for i in data:\n",
    "    total += i\n",
    "print(total)"
   ]
  },
  {
   "cell_type": "markdown",
   "metadata": {},
   "source": [
    "wap to mean , median ,  mode  , std"
   ]
  },
  {
   "cell_type": "code",
   "execution_count": 10,
   "metadata": {},
   "outputs": [
    {
     "ename": "TypeError",
     "evalue": "'int' object is not callable",
     "output_type": "error",
     "traceback": [
      "\u001b[1;31m---------------------------------------------------------------------------\u001b[0m",
      "\u001b[1;31mTypeError\u001b[0m                                 Traceback (most recent call last)",
      "\u001b[1;32mc:\\Users\\hp\\Desktop\\Python DS\\data structures\\lists.ipynb Cell 41\u001b[0m in \u001b[0;36m<cell line: 3>\u001b[1;34m()\u001b[0m\n\u001b[0;32m      <a href='vscode-notebook-cell:/c%3A/Users/hp/Desktop/Python%20DS/data%20structures/lists.ipynb#X55sZmlsZQ%3D%3D?line=0'>1</a>\u001b[0m x \u001b[39m=\u001b[39m [\u001b[39m1\u001b[39m, \u001b[39m2\u001b[39m, \u001b[39m3\u001b[39m, \u001b[39m4\u001b[39m, \u001b[39m5\u001b[39m, \u001b[39m7\u001b[39m, \u001b[39m8\u001b[39m, \u001b[39m9\u001b[39m] \n\u001b[1;32m----> <a href='vscode-notebook-cell:/c%3A/Users/hp/Desktop/Python%20DS/data%20structures/lists.ipynb#X55sZmlsZQ%3D%3D?line=2'>3</a>\u001b[0m mean \u001b[39m=\u001b[39m \u001b[39msum\u001b[39;49m(x)\u001b[39m/\u001b[39m\u001b[39mlen\u001b[39m(x)\n\u001b[0;32m      <a href='vscode-notebook-cell:/c%3A/Users/hp/Desktop/Python%20DS/data%20structures/lists.ipynb#X55sZmlsZQ%3D%3D?line=3'>4</a>\u001b[0m \u001b[39mprint\u001b[39m(mean)\n\u001b[0;32m      <a href='vscode-notebook-cell:/c%3A/Users/hp/Desktop/Python%20DS/data%20structures/lists.ipynb#X55sZmlsZQ%3D%3D?line=5'>6</a>\u001b[0m \u001b[39m#median \u001b[39;00m\n",
      "\u001b[1;31mTypeError\u001b[0m: 'int' object is not callable"
     ]
    }
   ],
   "source": [
    "\n",
    "x = [1, 2, 3, 4, 5, 7, 8, 9] \n",
    "\n",
    "mean = sum(x)/len(x)\n",
    "print(mean)\n",
    "\n",
    "#median \n",
    "x.sort()\n",
    "if len(x) % 2 == 0 :\n",
    "    median =(x[len(x)//2] + x[len(x)//2 -1])/2 \n",
    "else:\n",
    "    median = x[len(x)//2]\n",
    "print(median)\n",
    "\n",
    "#min\n",
    "print(min(x))\n",
    "\n",
    "#max\n",
    "print(max(x))\n",
    "\n",
    "\n"
   ]
  },
  {
   "cell_type": "code",
   "execution_count": 9,
   "metadata": {},
   "outputs": [
    {
     "name": "stdout",
     "output_type": "stream",
     "text": [
      "4.5\n"
     ]
    }
   ],
   "source": [
    "#median\n",
    "x.sort()\n",
    "if len(x) % 2 == 0 :\n",
    "    median =(x[len(x)//2] + x[len(x)//2 -1])/2 \n",
    "else:\n",
    "    median = x[len(x)//2]\n",
    "print(median)"
   ]
  },
  {
   "cell_type": "code",
   "execution_count": 11,
   "metadata": {},
   "outputs": [
    {
     "name": "stdout",
     "output_type": "stream",
     "text": [
      "[1, 2, 3, 3, 2, 1]\n"
     ]
    }
   ],
   "source": [
    "x = [1,2,3]\n",
    "y = [3,2,1]\n",
    "print(x+y)"
   ]
  },
  {
   "cell_type": "code",
   "execution_count": 15,
   "metadata": {},
   "outputs": [
    {
     "name": "stdout",
     "output_type": "stream",
     "text": [
      "[4, 4, 4]\n"
     ]
    }
   ],
   "source": [
    "a1 = [1, 2 , 3]\n",
    "b1 = [ 3,2,1]\n",
    "n1 =[]\n",
    "for i in range(len(a1)):\n",
    "\n",
    "    n1.append(a1[i]+b1[i])\n",
    "print(n1)"
   ]
  },
  {
   "cell_type": "code",
   "execution_count": 18,
   "metadata": {},
   "outputs": [
    {
     "name": "stdout",
     "output_type": "stream",
     "text": [
      "[4, 4, 4]\n"
     ]
    }
   ],
   "source": [
    "a1 = [1, 2 , 3]\n",
    "b1 = [ 3,2,1]\n",
    "n1 =[]\n",
    "for i , j in zip(a1,b1):\n",
    "    n1.append(i+j)\n",
    "print(n1)"
   ]
  },
  {
   "cell_type": "markdown",
   "metadata": {},
   "source": [
    "#create a list where every element in a square of elements of existing list"
   ]
  },
  {
   "cell_type": "code",
   "execution_count": 23,
   "metadata": {},
   "outputs": [
    {
     "name": "stdout",
     "output_type": "stream",
     "text": [
      "[2, 4, 6, 8]\n",
      "[4, 16, 36, 64]\n"
     ]
    }
   ],
   "source": [
    "x= [2,4,6,8]\n",
    "x2= []\n",
    "for i in x:\n",
    "    x2.append(i**2)\n",
    "print(x)\n",
    "print(x2)"
   ]
  },
  {
   "cell_type": "code",
   "execution_count": 21,
   "metadata": {},
   "outputs": [
    {
     "name": "stdout",
     "output_type": "stream",
     "text": [
      "[1, 5, 3, 4, 5, 6]\n",
      "[1, 25, 9, 25]\n"
     ]
    }
   ],
   "source": [
    "#create a list where every odd element is a sqr of elements from an existing list\n",
    "x = [1,5,3,4,5,6]\n",
    "x2 = []\n",
    "for i in x:\n",
    "    if i%2!=0:\n",
    "     x2.append(i**2)\n",
    "print(x)\n",
    "print(x2)"
   ]
  },
  {
   "cell_type": "code",
   "execution_count": 28,
   "metadata": {},
   "outputs": [
    {
     "name": "stdout",
     "output_type": "stream",
     "text": [
      "[2, 4, 6, 8]\n"
     ]
    }
   ],
   "source": [
    "x2 = [ i **2 for i in x if i%2!=0]\n",
    "print(x)"
   ]
  },
  {
   "cell_type": "code",
   "execution_count": 3,
   "metadata": {},
   "outputs": [
    {
     "name": "stdout",
     "output_type": "stream",
     "text": [
      "['us', 'pm', 'se', 'DA', 'sse', 'sDAs', 'DE']\n"
     ]
    }
   ],
   "source": [
    "#create a acronym list from an existing list of words\n",
    "w = ['united state', ' project manager', 'software engineer' , 'Data Analyst', 'senior software engineer','senior Data Analyst'\n",
    "'data scientist', ' Data Engineer']\n",
    "a = []\n",
    "for item in w:\n",
    "    items = item.split()\n",
    "    s=''\n",
    "    for i in items:\n",
    "        s += i[0]\n",
    "    a.append(s)\n",
    "print(a)\n",
    "\n"
   ]
  },
  {
   "cell_type": "code",
   "execution_count": 12,
   "metadata": {},
   "outputs": [
    {
     "name": "stdout",
     "output_type": "stream",
     "text": [
      "['29', '80', '97', '100', 'mango', 'apple']\n"
     ]
    }
   ],
   "source": [
    "#take a list from user in one line of input and then remove all the non numeric values from the list \n",
    "#then display  the cubes of number from that list\n",
    "entries = input(\"enter data using with space\")\n",
    "ln=entries.split(' ')\n",
    "print(ln)"
   ]
  },
  {
   "cell_type": "code",
   "execution_count": 29,
   "metadata": {},
   "outputs": [
    {
     "name": "stdout",
     "output_type": "stream",
     "text": [
      "23 45 namgo\n",
      "[23, 45]\n",
      "[12167, 91125]\n"
     ]
    }
   ],
   "source": [
    "entries = input(\"enter data using with space\")\n",
    "print(entries)\n",
    "numeric = []\n",
    "for value in entries.split():\n",
    "    if value.isnumeric():\n",
    "        numeric.append(int(value))\n",
    "print(numeric) \n",
    "#numeric = [ int(value) for value in entries.split() if value.isnumeric()] comprehension\n",
    "x2 = []\n",
    "for i in numeric:\n",
    "    x2.append(i**3)\n",
    "print(numeric)\n",
    "print(x2)\n"
   ]
  },
  {
   "cell_type": "markdown",
   "metadata": {},
   "source": [
    "#list comprehension\n",
    "is a way to create a list from existing list using one line of expression\n",
    "##syntax \n",
    "newlist = [expression for item in oldist]"
   ]
  },
  {
   "cell_type": "markdown",
   "metadata": {},
   "source": []
  },
  {
   "cell_type": "code",
   "execution_count": 25,
   "metadata": {},
   "outputs": [
    {
     "name": "stdout",
     "output_type": "stream",
     "text": [
      "[27, 64]\n"
     ]
    }
   ],
   "source": [
    "x2 = [ i ** 3 for i in numeric]\n",
    "print(x2)"
   ]
  },
  {
   "cell_type": "code",
   "execution_count": null,
   "metadata": {},
   "outputs": [],
   "source": []
  }
 ],
 "metadata": {
  "kernelspec": {
   "display_name": "Python 3.9.12 ('base')",
   "language": "python",
   "name": "python3"
  },
  "language_info": {
   "codemirror_mode": {
    "name": "ipython",
    "version": 3
   },
   "file_extension": ".py",
   "mimetype": "text/x-python",
   "name": "python",
   "nbconvert_exporter": "python",
   "pygments_lexer": "ipython3",
   "version": "3.9.12"
  },
  "orig_nbformat": 4,
  "vscode": {
   "interpreter": {
    "hash": "79d71d161e7943240a345005223b4b57f09b9732a24e4917a9c0467b3aef16ea"
   }
  }
 },
 "nbformat": 4,
 "nbformat_minor": 2
}
